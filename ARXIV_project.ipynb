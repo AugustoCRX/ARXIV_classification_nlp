{
  "cells": [
    {
      "cell_type": "code",
      "execution_count": null,
      "metadata": {
        "id": "C9ukCbCYYF-n"
      },
      "outputs": [],
      "source": [
        "import pandas as pd\n",
        "import numpy as np\n",
        "import re\n",
        "import requests\n",
        "from bs4 import BeautifulSoup\n",
        "import matplotlib.pyplot as plt\n",
        "import seaborn as sns\n",
        "import nltk\n",
        "\n",
        "from nltk import word_tokenize\n",
        "from nltk.corpus import stopwords\n",
        "from nltk.stem import WordNetLemmatizer\n",
        "from nltk.stem import PorterStemmer\n",
        "\n",
        "from sklearn.preprocessing import MultiLabelBinarizer\n",
        "from sklearn.feature_extraction.text import CountVectorizer\n",
        "from sklearn.feature_extraction.text import TfidfTransformer\n",
        "from sklearn.model_selection import train_test_split\n",
        "from sklearn.decomposition import TruncatedSVD\n",
        "\n",
        "from sklearn.multiclass import OneVsRestClassifier\n",
        "from sklearn.linear_model import LogisticRegression, SGDClassifier\n",
        "\n",
        "import tensorflow as tf\n",
        "from tensorflow import keras\n",
        "\n",
        "from sklearn.metrics import accuracy_score, f1_score, precision_score, roc_auc_score"
      ]
    },
    {
      "cell_type": "code",
      "execution_count": null,
      "metadata": {
        "colab": {
          "base_uri": "https://localhost:8080/"
        },
        "id": "sZS0aJU1bqcj",
        "outputId": "3035a1fe-29d4-453d-c3ec-d0b0cd630469"
      },
      "outputs": [
        {
          "name": "stderr",
          "output_type": "stream",
          "text": [
            "[nltk_data] Downloading package stopwords to /root/nltk_data...\n",
            "[nltk_data]   Package stopwords is already up-to-date!\n",
            "[nltk_data] Downloading package punkt to /root/nltk_data...\n",
            "[nltk_data]   Package punkt is already up-to-date!\n",
            "[nltk_data] Downloading package wordnet to /root/nltk_data...\n",
            "[nltk_data]   Package wordnet is already up-to-date!\n",
            "[nltk_data] Downloading package omw-1.4 to /root/nltk_data...\n",
            "[nltk_data]   Package omw-1.4 is already up-to-date!\n"
          ]
        },
        {
          "data": {
            "text/plain": [
              "True"
            ]
          },
          "execution_count": 2,
          "metadata": {},
          "output_type": "execute_result"
        }
      ],
      "source": [
        "nltk.download('stopwords')\n",
        "nltk.download('punkt')\n",
        "nltk.download('wordnet')\n",
        "nltk.download('omw-1.4')"
      ]
    },
    {
      "cell_type": "code",
      "execution_count": null,
      "metadata": {
        "colab": {
          "base_uri": "https://localhost:8080/"
        },
        "id": "FVBrUjDG78hD",
        "outputId": "5174dfec-c530-41d8-c525-7a9ad056438a"
      },
      "outputs": [
        {
          "name": "stdout",
          "output_type": "stream",
          "text": [
            "Drive already mounted at /content/drive; to attempt to forcibly remount, call drive.mount(\"/content/drive\", force_remount=True).\n"
          ]
        }
      ],
      "source": [
        "from google.colab import drive\n",
        "drive.mount('/content/drive')"
      ]
    },
    {
      "cell_type": "markdown",
      "metadata": {
        "id": "hvqC0s37jHCY"
      },
      "source": [
        "A 'Ar XIV' é um repositório gratuito de trabalhos científicos, os trabalhos podem receber classificações conforme o link: https://arxiv.org/category_taxonomy. A ideia inicial do trabalho é fazer um filtro na coluna *'terms'* com os seguintes objetivos:\n",
        "\n",
        "*  Realizar uma captação das classificações no site da 'Ar XIV'; \n",
        "*  Filtrar na coluna *'terms'* as classificações que não fazem parte do 'Ar XIV';\n",
        "*  Excluir todas as instâncias que aparecem menos de 300 vezes no projeto.\n",
        "\n",
        "Como resultados teremos a coluna *terms* apenas com as classificações que fazem parte do site da 'Ar XIV' e aparecem no mínimo 301 vezes.\n",
        "\n",
        "O Objetivo dessa estrategia é a remoção de outliers e redução do espaço amostral para que o modelo tenha maior facilidade de classificação."
      ]
    },
    {
      "cell_type": "code",
      "execution_count": null,
      "metadata": {
        "id": "jna4odpTYF-q"
      },
      "outputs": [],
      "source": [
        "df = pd.read_csv('/content/drive/MyDrive/arxiv_data.csv')\n",
        "df.head()\n",
        "df.drop_duplicates(subset=['titles'], inplace=True)\n",
        "df.reset_index(inplace=True, drop = True)\n",
        "#Loop responsável por excluir todos os caracteres especiais\n",
        "for i in range(len(df)):\n",
        "    df.loc[i, 'terms'] = re.sub(r'[^\\w\\s]', '', df.loc[i, 'terms'])"
      ]
    },
    {
      "cell_type": "code",
      "execution_count": null,
      "metadata": {
        "id": "dP7AFzNK75Jx"
      },
      "outputs": [],
      "source": [
        "class TermsCleaning:\n",
        "    \n",
        "    def __init__(self, dataframe, classif_list, column):\n",
        "        self.dataframe = dataframe\n",
        "        self.classif_list = classif_list\n",
        "        self.column = column\n",
        "\n",
        "    # Função responsável por retirar o ponto das variáveis terms\n",
        "    def clear_dot(lista): \n",
        "        lista = np.array(lista)\n",
        "        for i in range(len(lista)):\n",
        "            x = str(lista[i])\n",
        "            y = re.findall('\\w', x)\n",
        "            lista[i] = ''.join(y)\n",
        "        return lista\n",
        "\n",
        "    # Função responsável por limpar as classificações do ArXIV de acordo com uma lista classificadora\n",
        "    # Essa lista não checa a combinação das classificações e sim as classificações unitárias\n",
        "    # Ver: https://arxiv.org/category_taxonomy para mais informações.\n",
        "    def clear_class(dataframe,classificator, column):\n",
        "        for j in range(len(dataframe)):\n",
        "            sentence = np.array(dataframe.loc[j, column].split()) #Transforma a string classificação em lista\n",
        "            indices=np.argwhere(np.isin(sentence,classificator))  #Procura os índices que estão dentro do classificador\n",
        "            delete = []\n",
        "            for i in range(len(sentence)):\n",
        "                if i not in indices:\n",
        "                    delete.append(i)\n",
        "            dataframe.loc[j, column] = str(np.delete(sentence, delete))\n",
        "        return dataframe\n",
        "\n",
        "    #Função responsável por criar uma lista de dummies.\n",
        "    def dummies(dataframe,lista):\n",
        "        dummies = pd.get_dummies(lista)[0:0]\n",
        "        #Este loop coloca 1 caso uma classificação esteja dentro da classificação dos dummies, caso não esteja, é preenchido como NaN\n",
        "        for x in range(len(dataframe)):\n",
        "            classif_main = dataframe.loc[x, 'terms'].split()\n",
        "            for i in dummies.columns:\n",
        "                for j in classif_main:\n",
        "                    if i in j:\n",
        "                        dummies.loc[x, i] = 1\n",
        "        dummies.fillna(0, inplace = True)\n",
        "        return dummies\n",
        "\n",
        "    #Função responsável por executar as funções acima e retornar um dataframe com a coluna 'terms' filtrada \n",
        "    def cleaner(self):\n",
        "        classif_list = TermsCleaning.clear_dot(self.classif_list)\n",
        "        classif_list = TermsCleaning.dummies(self.dataframe,classif_list)\n",
        "        total_dummies = []\n",
        "        # Esse loop é responsável por gerar uma contagem dos totais da coluna especificada\n",
        "\n",
        "        for i in classif_list.columns:\n",
        "            counts = np.sum(classif_list[i])\n",
        "            total_dummies.append([i,counts]) \n",
        "        total_dummies = pd.DataFrame(total_dummies, columns = ['Classification','Total'])\n",
        "\n",
        "        # Loop responsável por excluir todas as instâncias que são inferiores a 300\n",
        "        for i in range(len(total_dummies)):\n",
        "            if total_dummies.loc[i, 'Total'] <= 300:\n",
        "                total_dummies.drop(i, inplace = True)\n",
        "        total_dummies.reset_index(drop=True, inplace=True)\n",
        "        total_dummies_numpy = np.array(total_dummies['Classification'])\n",
        "        df_selected_dummies = TermsCleaning.clear_class(self.dataframe, total_dummies_numpy, self.column)\n",
        "        new_dummies = TermsCleaning.dummies(dataframe = df_selected_dummies,lista = total_dummies_numpy)\n",
        "        return df_selected_dummies , new_dummies, total_dummies"
      ]
    },
    {
      "cell_type": "code",
      "execution_count": null,
      "metadata": {
        "id": "rNGt4HL0YF-r"
      },
      "outputs": [],
      "source": [
        "#web scraping das classificações originais\n",
        "page = requests.get('https://arxiv.org/category_taxonomy')\n",
        "soup = BeautifulSoup(page.content, 'html.parser')\n",
        "htmlclass = 'div[class=\"column is-one-fifth\"]'\n",
        "container = soup.select(htmlclass)\n",
        "\n",
        "# Extraindo texto do código html original\n",
        "h4class = re.findall('(<.*?>)(.*)(<.*?>)', str(container))\n",
        "h4class = pd.DataFrame(h4class)\n",
        "\n",
        "h4class.drop(columns = {0,2}, inplace = True)\n",
        "\n",
        "classif_list = []\n",
        "# Limpeza dos dados\n",
        "# Criando uma lista de classificações\n",
        "for i in range(len(h4class)):\n",
        "    x = h4class.loc[i, 1].split()[0]\n",
        "    notclass = [',','Condensed','High','Mathematical','Nonlinear','Nuclear','Quantum','General','span']\n",
        "    if x in notclass:\n",
        "        continue\n",
        "    else:\n",
        "        classif_list.append(x)"
      ]
    },
    {
      "cell_type": "code",
      "execution_count": null,
      "metadata": {
        "id": "3LzBvGhG75J1"
      },
      "outputs": [],
      "source": [
        "cleaner = TermsCleaning(dataframe = df, classif_list = classif_list, column = 'terms')\n",
        "df , y , total = cleaner.cleaner()"
      ]
    },
    {
      "cell_type": "code",
      "execution_count": null,
      "metadata": {
        "id": "hLK9bhzsYF-s"
      },
      "outputs": [],
      "source": [
        "stop_words = stopwords.words('english')\n",
        "lemmatizer = WordNetLemmatizer()\n",
        "stemmer = PorterStemmer()\n",
        "mlb = MultiLabelBinarizer()\n",
        "vectorizer = CountVectorizer(analyzer='word', ngram_range=(1,1))\n",
        "tfidf_transformer = TfidfTransformer()"
      ]
    },
    {
      "cell_type": "code",
      "execution_count": null,
      "metadata": {
        "id": "Khm3HtZzYF-t"
      },
      "outputs": [],
      "source": [
        "titles = df['titles']"
      ]
    },
    {
      "cell_type": "code",
      "execution_count": null,
      "metadata": {
        "id": "kKoJjad0YF-v"
      },
      "outputs": [],
      "source": [
        "# funcao para tratar cada palavra e remover stopwords\n",
        "def processamento(tokens):\n",
        "    \n",
        "    token_processado = []\n",
        "    for token in tokens:\n",
        "        token = token.lower()\n",
        "        token = lemmatizer.lemmatize(token)\n",
        "        \n",
        "        if token not in stop_words:\n",
        "            token = stemmer.stem(token)\n",
        "            token_processado.append(token)\n",
        "        \n",
        "    return token_processado\n",
        "\n",
        "documentos_1 = []\n",
        "for title in titles:\n",
        "    \n",
        "    # expressao regular para remover pontuacoes do texto\n",
        "    title = re.sub(r'[^\\w\\s]','', title)\n",
        "    tokens = processamento(word_tokenize(title))\n",
        "    \n",
        "    documentos_1.append(' '.join(tokens))\n",
        "\n",
        "X_train_counts_1 = vectorizer.fit_transform(documentos_1)\n",
        "X_train_tfidf_1 = tfidf_transformer.fit_transform(X_train_counts_1)\n",
        "\n",
        "X_1 = X_train_tfidf_1"
      ]
    },
    {
      "cell_type": "code",
      "execution_count": null,
      "metadata": {
        "colab": {
          "base_uri": "https://localhost:8080/",
          "height": 112
        },
        "id": "P4Z1XU_70VY9",
        "outputId": "36cedb39-68f3-43ca-9704-4960d1df187d"
      },
      "outputs": [
        {
          "data": {
            "text/html": [
              "\n",
              "  <div id=\"df-eee6c8fc-5a88-4f52-8fb8-cfee2ace0462\">\n",
              "    <div class=\"colab-df-container\">\n",
              "      <div>\n",
              "<style scoped>\n",
              "    .dataframe tbody tr th:only-of-type {\n",
              "        vertical-align: middle;\n",
              "    }\n",
              "\n",
              "    .dataframe tbody tr th {\n",
              "        vertical-align: top;\n",
              "    }\n",
              "\n",
              "    .dataframe thead th {\n",
              "        text-align: right;\n",
              "    }\n",
              "</style>\n",
              "<table border=\"1\" class=\"dataframe\">\n",
              "  <thead>\n",
              "    <tr style=\"text-align: right;\">\n",
              "      <th></th>\n",
              "      <th>3</th>\n",
              "      <th>6</th>\n",
              "      <th>16</th>\n",
              "      <th>0</th>\n",
              "      <th>13</th>\n",
              "      <th>10</th>\n",
              "      <th>1</th>\n",
              "      <th>9</th>\n",
              "      <th>2</th>\n",
              "      <th>15</th>\n",
              "      <th>14</th>\n",
              "      <th>4</th>\n",
              "      <th>11</th>\n",
              "      <th>12</th>\n",
              "      <th>8</th>\n",
              "      <th>5</th>\n",
              "      <th>7</th>\n",
              "    </tr>\n",
              "  </thead>\n",
              "  <tbody>\n",
              "    <tr>\n",
              "      <th>Classification</th>\n",
              "      <td>csCV</td>\n",
              "      <td>csLG</td>\n",
              "      <td>statML</td>\n",
              "      <td>csAI</td>\n",
              "      <td>eessIV</td>\n",
              "      <td>csRO</td>\n",
              "      <td>csCL</td>\n",
              "      <td>csNE</td>\n",
              "      <td>csCR</td>\n",
              "      <td>mathOC</td>\n",
              "      <td>eessSP</td>\n",
              "      <td>csGR</td>\n",
              "      <td>csSI</td>\n",
              "      <td>csSY</td>\n",
              "      <td>csMM</td>\n",
              "      <td>csIR</td>\n",
              "      <td>csMA</td>\n",
              "    </tr>\n",
              "    <tr>\n",
              "      <th>Total</th>\n",
              "      <td>22253.0</td>\n",
              "      <td>22241.0</td>\n",
              "      <td>12425.0</td>\n",
              "      <td>5951.0</td>\n",
              "      <td>1762.0</td>\n",
              "      <td>1493.0</td>\n",
              "      <td>1095.0</td>\n",
              "      <td>1014.0</td>\n",
              "      <td>590.0</td>\n",
              "      <td>583.0</td>\n",
              "      <td>480.0</td>\n",
              "      <td>446.0</td>\n",
              "      <td>430.0</td>\n",
              "      <td>387.0</td>\n",
              "      <td>385.0</td>\n",
              "      <td>351.0</td>\n",
              "      <td>304.0</td>\n",
              "    </tr>\n",
              "  </tbody>\n",
              "</table>\n",
              "</div>\n",
              "      <button class=\"colab-df-convert\" onclick=\"convertToInteractive('df-eee6c8fc-5a88-4f52-8fb8-cfee2ace0462')\"\n",
              "              title=\"Convert this dataframe to an interactive table.\"\n",
              "              style=\"display:none;\">\n",
              "        \n",
              "  <svg xmlns=\"http://www.w3.org/2000/svg\" height=\"24px\"viewBox=\"0 0 24 24\"\n",
              "       width=\"24px\">\n",
              "    <path d=\"M0 0h24v24H0V0z\" fill=\"none\"/>\n",
              "    <path d=\"M18.56 5.44l.94 2.06.94-2.06 2.06-.94-2.06-.94-.94-2.06-.94 2.06-2.06.94zm-11 1L8.5 8.5l.94-2.06 2.06-.94-2.06-.94L8.5 2.5l-.94 2.06-2.06.94zm10 10l.94 2.06.94-2.06 2.06-.94-2.06-.94-.94-2.06-.94 2.06-2.06.94z\"/><path d=\"M17.41 7.96l-1.37-1.37c-.4-.4-.92-.59-1.43-.59-.52 0-1.04.2-1.43.59L10.3 9.45l-7.72 7.72c-.78.78-.78 2.05 0 2.83L4 21.41c.39.39.9.59 1.41.59.51 0 1.02-.2 1.41-.59l7.78-7.78 2.81-2.81c.8-.78.8-2.07 0-2.86zM5.41 20L4 18.59l7.72-7.72 1.47 1.35L5.41 20z\"/>\n",
              "  </svg>\n",
              "      </button>\n",
              "      \n",
              "  <style>\n",
              "    .colab-df-container {\n",
              "      display:flex;\n",
              "      flex-wrap:wrap;\n",
              "      gap: 12px;\n",
              "    }\n",
              "\n",
              "    .colab-df-convert {\n",
              "      background-color: #E8F0FE;\n",
              "      border: none;\n",
              "      border-radius: 50%;\n",
              "      cursor: pointer;\n",
              "      display: none;\n",
              "      fill: #1967D2;\n",
              "      height: 32px;\n",
              "      padding: 0 0 0 0;\n",
              "      width: 32px;\n",
              "    }\n",
              "\n",
              "    .colab-df-convert:hover {\n",
              "      background-color: #E2EBFA;\n",
              "      box-shadow: 0px 1px 2px rgba(60, 64, 67, 0.3), 0px 1px 3px 1px rgba(60, 64, 67, 0.15);\n",
              "      fill: #174EA6;\n",
              "    }\n",
              "\n",
              "    [theme=dark] .colab-df-convert {\n",
              "      background-color: #3B4455;\n",
              "      fill: #D2E3FC;\n",
              "    }\n",
              "\n",
              "    [theme=dark] .colab-df-convert:hover {\n",
              "      background-color: #434B5C;\n",
              "      box-shadow: 0px 1px 3px 1px rgba(0, 0, 0, 0.15);\n",
              "      filter: drop-shadow(0px 1px 2px rgba(0, 0, 0, 0.3));\n",
              "      fill: #FFFFFF;\n",
              "    }\n",
              "  </style>\n",
              "\n",
              "      <script>\n",
              "        const buttonEl =\n",
              "          document.querySelector('#df-eee6c8fc-5a88-4f52-8fb8-cfee2ace0462 button.colab-df-convert');\n",
              "        buttonEl.style.display =\n",
              "          google.colab.kernel.accessAllowed ? 'block' : 'none';\n",
              "\n",
              "        async function convertToInteractive(key) {\n",
              "          const element = document.querySelector('#df-eee6c8fc-5a88-4f52-8fb8-cfee2ace0462');\n",
              "          const dataTable =\n",
              "            await google.colab.kernel.invokeFunction('convertToInteractive',\n",
              "                                                     [key], {});\n",
              "          if (!dataTable) return;\n",
              "\n",
              "          const docLinkHtml = 'Like what you see? Visit the ' +\n",
              "            '<a target=\"_blank\" href=https://colab.research.google.com/notebooks/data_table.ipynb>data table notebook</a>'\n",
              "            + ' to learn more about interactive tables.';\n",
              "          element.innerHTML = '';\n",
              "          dataTable['output_type'] = 'display_data';\n",
              "          await google.colab.output.renderOutput(dataTable, element);\n",
              "          const docLink = document.createElement('div');\n",
              "          docLink.innerHTML = docLinkHtml;\n",
              "          element.appendChild(docLink);\n",
              "        }\n",
              "      </script>\n",
              "    </div>\n",
              "  </div>\n",
              "  "
            ],
            "text/plain": [
              "                     3        6        16      0       13      10      1   \\\n",
              "Classification     csCV     csLG   statML    csAI  eessIV    csRO    csCL   \n",
              "Total           22253.0  22241.0  12425.0  5951.0  1762.0  1493.0  1095.0   \n",
              "\n",
              "                    9      2       15      14     4      11     12     8   \\\n",
              "Classification    csNE   csCR  mathOC  eessSP   csGR   csSI   csSY   csMM   \n",
              "Total           1014.0  590.0   583.0   480.0  446.0  430.0  387.0  385.0   \n",
              "\n",
              "                   5      7   \n",
              "Classification   csIR   csMA  \n",
              "Total           351.0  304.0  "
            ]
          },
          "execution_count": 11,
          "metadata": {},
          "output_type": "execute_result"
        }
      ],
      "source": [
        "pd.DataFrame(total).reset_index(drop=True).sort_values(by=['Total'], ascending = False).T"
      ]
    },
    {
      "cell_type": "code",
      "execution_count": null,
      "metadata": {
        "colab": {
          "base_uri": "https://localhost:8080/",
          "height": 530
        },
        "id": "zfLELrzFu141",
        "outputId": "6f02ead3-a032-4270-8eb0-350941936a9c"
      },
      "outputs": [
        {
          "data": {
            "text/plain": [
              "Text(0.5, 1.0, 'Classification totals')"
            ]
          },
          "execution_count": 12,
          "metadata": {},
          "output_type": "execute_result"
        },
        {
          "data": {
            "image/png": "[encoded data removed]",
            "text/plain": [
              "<Figure size 1080x576 with 1 Axes>"
            ]
          },
          "metadata": {
            "needs_background": "light"
          },
          "output_type": "display_data"
        }
      ],
      "source": [
        "total.sort_values(by = ['Total'], inplace = True)\n",
        "plt.figure(figsize = (15,8))\n",
        "sns.barplot(data = total, x = 'Classification', y = 'Total',palette=\"Blues_d\")\n",
        "plt.title('Classification totals')"
      ]
    },
    {
      "cell_type": "code",
      "execution_count": null,
      "metadata": {
        "id": "oYtYIdKQrBhn"
      },
      "outputs": [],
      "source": [
        "#Construção do PCA\n",
        "pca = TruncatedSVD(n_components = 100, algorithm='arpack', random_state = 10, tol = 0.1)\n",
        "X_pca_1 = pca.fit_transform(X_1)"
      ]
    },
    {
      "cell_type": "code",
      "execution_count": null,
      "metadata": {
        "id": "lwI1G7NlYF-x"
      },
      "outputs": [],
      "source": [
        "Xtrain_1, Xtest_1,Ytrain_1, Ytest_1 = train_test_split(X_pca_1, y, test_size=0.20, random_state=10)"
      ]
    },
    {
      "cell_type": "code",
      "execution_count": null,
      "metadata": {
        "id": "HP79gdASYF-x"
      },
      "outputs": [],
      "source": [
        "#SVM\n",
        "svm_1 = SGDClassifier(loss='hinge', penalty='l2',learning_rate='adaptive', random_state=10, eta0=0.05, )\n",
        "clf_svm_1 = OneVsRestClassifier(svm_1)\n",
        "\n",
        "clf_svm_1.fit(Xtrain_1, Ytrain_1)\n",
        "y_pred_svm_1 = clf_svm_1.predict(Xtest_1)"
      ]
    },
    {
      "cell_type": "code",
      "execution_count": null,
      "metadata": {
        "id": "_-2r_7gQSeoB"
      },
      "outputs": [],
      "source": [
        "acc_svm_1 = round(accuracy_score(Ytest_1, y_pred_svm_1),4)\n",
        "prec_svm_1 = round(precision_score(Ytest_1, y_pred_svm_1,average = 'micro'),4)\n",
        "roc_svm_1 =  round(roc_auc_score(Ytest_1, y_pred_svm_1),4)"
      ]
    },
    {
      "cell_type": "code",
      "execution_count": null,
      "metadata": {
        "colab": {
          "base_uri": "https://localhost:8080/"
        },
        "id": "l1LMHwMpvmvG",
        "outputId": "c8034085-c043-418c-adbb-13fb3a7f6386"
      },
      "outputs": [
        {
          "name": "stdout",
          "output_type": "stream",
          "text": [
            "Accuracy for logistic regression: 0.3697\n",
            "Precision for logistic regression: 0.8178 \n",
            "ROC AUC for logistic regression: 0.5462 \n"
          ]
        }
      ],
      "source": [
        "print(f'Accuracy for logistic regression: {acc_svm_1}')\n",
        "print(f'Precision for logistic regression: {prec_svm_1} ' )\n",
        "print(f'ROC AUC for logistic regression: {roc_svm_1} ', )"
      ]
    },
    {
      "cell_type": "code",
      "execution_count": null,
      "metadata": {
        "id": "XhF-ihQg75J4"
      },
      "outputs": [],
      "source": [
        "#Logistic Regression\n",
        "lr_1 = LogisticRegression(solver='sag', multi_class='ovr')\n",
        "clf_lr_1 = OneVsRestClassifier(lr_1)\n",
        "\n",
        "clf_lr_1.fit(Xtrain_1, Ytrain_1)\n",
        "y_pred_lr_1 = clf_lr_1.predict(Xtest_1)\n",
        "y_pred_lr_prob_1 = clf_lr_1.predict_proba(Xtest_1)"
      ]
    },
    {
      "cell_type": "code",
      "execution_count": null,
      "metadata": {
        "id": "CD4H0W1CRuY-"
      },
      "outputs": [],
      "source": [
        "acc_lr_1 = round(accuracy_score(Ytest_1, y_pred_lr_1),4)\n",
        "prec_lr_1 = round(precision_score(Ytest_1, y_pred_lr_1,average = 'micro'),4)\n",
        "roc_lr_1 =  round(roc_auc_score(Ytest_1, y_pred_lr_prob_1),4)"
      ]
    },
    {
      "cell_type": "code",
      "execution_count": null,
      "metadata": {
        "colab": {
          "base_uri": "https://localhost:8080/"
        },
        "id": "k610NIioYF-y",
        "outputId": "061bb9e4-f1cb-43dc-e2f6-ee445c772e41"
      },
      "outputs": [
        {
          "name": "stdout",
          "output_type": "stream",
          "text": [
            "Accuracy for logistic regression: 0.3851\n",
            "Precision for logistic regression: 0.7995 \n",
            "ROC AUC for logistic regression: 0.8296 \n"
          ]
        }
      ],
      "source": [
        "print(f'Accuracy for logistic regression: {acc_lr_1}')\n",
        "print(f'Precision for logistic regression: {prec_lr_1} ' )\n",
        "print(f'ROC AUC for logistic regression: {roc_lr_1} ', )"
      ]
    },
    {
      "cell_type": "code",
      "execution_count": null,
      "metadata": {
        "colab": {
          "base_uri": "https://localhost:8080/"
        },
        "id": "ePZpCu0f8ztY",
        "outputId": "1d833b20-b13a-45ff-b25f-9c8ba1cefe78"
      },
      "outputs": [
        {
          "name": "stdout",
          "output_type": "stream",
          "text": [
            "Model: \"sequential\"\n",
            "_________________________________________________________________\n",
            " Layer (type)                Output Shape              Param #   \n",
            "=================================================================\n",
            " dense (Dense)               (None, 100)               10100     \n",
            "                                                                 \n",
            " dropout (Dropout)           (None, 100)               0         \n",
            "                                                                 \n",
            " flatten (Flatten)           (None, 100)               0         \n",
            "                                                                 \n",
            " dense_1 (Dense)             (None, 50)                5050      \n",
            "                                                                 \n",
            " dense_2 (Dense)             (None, 25)                1275      \n",
            "                                                                 \n",
            " dense_3 (Dense)             (None, 25)                650       \n",
            "                                                                 \n",
            " dense_4 (Dense)             (None, 12)                312       \n",
            "                                                                 \n",
            " dense_5 (Dense)             (None, 17)                221       \n",
            "                                                                 \n",
            "=================================================================\n",
            "Total params: 17,608\n",
            "Trainable params: 17,608\n",
            "Non-trainable params: 0\n",
            "_________________________________________________________________\n",
            "Epoch 1/35\n",
            "3118/3118 [==============================] - 10s 3ms/step - loss: 0.1773 - auc: 0.9025 - precision: 0.8933 - accuracy: 0.6354\n",
            "Epoch 2/35\n",
            "3118/3118 [==============================] - 8s 3ms/step - loss: 0.1602 - auc: 0.9048 - precision: 0.9041 - accuracy: 0.6711\n",
            "Epoch 3/35\n",
            "3118/3118 [==============================] - 8s 3ms/step - loss: 0.1572 - auc: 0.9050 - precision: 0.9087 - accuracy: 0.6759\n",
            "Epoch 4/35\n",
            "3118/3118 [==============================] - 8s 3ms/step - loss: 0.1548 - auc: 0.9054 - precision: 0.9110 - accuracy: 0.6790\n",
            "Epoch 5/35\n",
            "3118/3118 [==============================] - 8s 3ms/step - loss: 0.1530 - auc: 0.9064 - precision: 0.9133 - accuracy: 0.6801\n",
            "Epoch 6/35\n",
            "3118/3118 [==============================] - 8s 3ms/step - loss: 0.1514 - auc: 0.9066 - precision: 0.9164 - accuracy: 0.6836\n",
            "Epoch 7/35\n",
            "3118/3118 [==============================] - 8s 3ms/step - loss: 0.1501 - auc: 0.9070 - precision: 0.9170 - accuracy: 0.6852\n",
            "Epoch 8/35\n",
            "3118/3118 [==============================] - 8s 3ms/step - loss: 0.1492 - auc: 0.9072 - precision: 0.9176 - accuracy: 0.6847\n",
            "Epoch 9/35\n",
            "3118/3118 [==============================] - 8s 3ms/step - loss: 0.1480 - auc: 0.9054 - precision: 0.9198 - accuracy: 0.6852\n",
            "Epoch 10/35\n",
            "3118/3118 [==============================] - 8s 3ms/step - loss: 0.1471 - auc: 0.9057 - precision: 0.9214 - accuracy: 0.6869\n",
            "Epoch 11/35\n",
            "3118/3118 [==============================] - 8s 3ms/step - loss: 0.1463 - auc: 0.9061 - precision: 0.9227 - accuracy: 0.6859\n",
            "Epoch 12/35\n",
            "3118/3118 [==============================] - 13s 4ms/step - loss: 0.1459 - auc: 0.9057 - precision: 0.9221 - accuracy: 0.6866\n",
            "Epoch 13/35\n",
            "3118/3118 [==============================] - 9s 3ms/step - loss: 0.1452 - auc: 0.9046 - precision: 0.9253 - accuracy: 0.6900\n",
            "Epoch 14/35\n",
            "3118/3118 [==============================] - 9s 3ms/step - loss: 0.1449 - auc: 0.9056 - precision: 0.9246 - accuracy: 0.6878\n",
            "Epoch 15/35\n",
            "3118/3118 [==============================] - 9s 3ms/step - loss: 0.1441 - auc: 0.9050 - precision: 0.9258 - accuracy: 0.6913\n",
            "Epoch 16/35\n",
            "3118/3118 [==============================] - 11s 3ms/step - loss: 0.1439 - auc: 0.9064 - precision: 0.9257 - accuracy: 0.6888\n",
            "Epoch 17/35\n",
            "3118/3118 [==============================] - 9s 3ms/step - loss: 0.1431 - auc: 0.9041 - precision: 0.9276 - accuracy: 0.6911\n",
            "Epoch 18/35\n",
            "3118/3118 [==============================] - 8s 3ms/step - loss: 0.1430 - auc: 0.9038 - precision: 0.9271 - accuracy: 0.6895\n",
            "Epoch 19/35\n",
            "3118/3118 [==============================] - 8s 3ms/step - loss: 0.1426 - auc: 0.9050 - precision: 0.9271 - accuracy: 0.6920\n",
            "Epoch 20/35\n",
            "3118/3118 [==============================] - 8s 3ms/step - loss: 0.1422 - auc: 0.9040 - precision: 0.9313 - accuracy: 0.6917\n",
            "Epoch 21/35\n",
            "3118/3118 [==============================] - 8s 3ms/step - loss: 0.1420 - auc: 0.9051 - precision: 0.9287 - accuracy: 0.6918\n",
            "Epoch 22/35\n",
            "3118/3118 [==============================] - 8s 3ms/step - loss: 0.1415 - auc: 0.9048 - precision: 0.9291 - accuracy: 0.6897\n",
            "Epoch 23/35\n",
            "3118/3118 [==============================] - 8s 3ms/step - loss: 0.1412 - auc: 0.9023 - precision: 0.9322 - accuracy: 0.6930\n",
            "Epoch 24/35\n",
            "3118/3118 [==============================] - 8s 3ms/step - loss: 0.1407 - auc: 0.9047 - precision: 0.9321 - accuracy: 0.6942\n",
            "Epoch 25/35\n",
            "3118/3118 [==============================] - 8s 3ms/step - loss: 0.1406 - auc: 0.9038 - precision: 0.9325 - accuracy: 0.6948\n",
            "Epoch 26/35\n",
            "3118/3118 [==============================] - 8s 3ms/step - loss: 0.1400 - auc: 0.9036 - precision: 0.9326 - accuracy: 0.6944\n",
            "Epoch 27/35\n",
            "3118/3118 [==============================] - 8s 3ms/step - loss: 0.1400 - auc: 0.9033 - precision: 0.9339 - accuracy: 0.6957\n",
            "Epoch 28/35\n",
            "3118/3118 [==============================] - 8s 3ms/step - loss: 0.1399 - auc: 0.9021 - precision: 0.9329 - accuracy: 0.6964\n",
            "Epoch 29/35\n",
            "3118/3118 [==============================] - 8s 3ms/step - loss: 0.1396 - auc: 0.9029 - precision: 0.9335 - accuracy: 0.6971\n",
            "Epoch 30/35\n",
            "3118/3118 [==============================] - 8s 3ms/step - loss: 0.1398 - auc: 0.9053 - precision: 0.9322 - accuracy: 0.6946\n",
            "Epoch 31/35\n",
            "3118/3118 [==============================] - 8s 3ms/step - loss: 0.1393 - auc: 0.9032 - precision: 0.9335 - accuracy: 0.6985\n",
            "Epoch 32/35\n",
            "3118/3118 [==============================] - 8s 3ms/step - loss: 0.1387 - auc: 0.9032 - precision: 0.9349 - accuracy: 0.6984\n",
            "Epoch 33/35\n",
            "3118/3118 [==============================] - 8s 3ms/step - loss: 0.1388 - auc: 0.9039 - precision: 0.9331 - accuracy: 0.6971\n",
            "Epoch 34/35\n",
            "3118/3118 [==============================] - 8s 3ms/step - loss: 0.1385 - auc: 0.9012 - precision: 0.9356 - accuracy: 0.6978\n",
            "Epoch 35/35\n",
            "3118/3118 [==============================] - 9s 3ms/step - loss: 0.1381 - auc: 0.9027 - precision: 0.9358 - accuracy: 0.7001\n",
            "\n",
            "\n",
            "975/975 [==============================] - 2s 2ms/step - loss: 0.1314 - auc: 0.9152 - precision: 0.9501 - accuracy: 0.7121\n",
            "['loss', 'auc', 'precision', 'accuracy']\n",
            "Loss:  0.1313735693693161\n",
            "AUC for neural network:  0.915162205696106\n",
            "Precision for neural network:  0.9501103162765503\n",
            "Accuracy for neural network:  0.7120633721351624\n"
          ]
        }
      ],
      "source": [
        "#Neural Network\n",
        "# O código é composto pelas seguintes camadas:\n",
        "# 1. Input com o número de neuronios igual ao número de features (número de palavras)\n",
        "# 2. Camada de dropout com 0.2 de probabilidade\n",
        "# 3. Camada com achatamento\n",
        "# 4. Camada densa com metade do numero de neuronios da camada de input\n",
        "# 5. Camada densa com um quarto (1/4) do numero de neuronios da camada de input repetido duas vezes\n",
        "# 6. Camada densa com um oitavo (1/8) do numero de neuronios da camada de input\n",
        "# 7. Camada densa de output com um neuronio para cada classe com ativação softmax\n",
        "\n",
        "model_1 = keras.Sequential(\n",
        "    [keras.layers.Dense(Xtrain_1.shape[-1], activation=\"relu\", input_shape=(Xtrain_1.shape[-1],)),\n",
        "    keras.layers.Dropout(0.2),\n",
        "    keras.layers.Flatten(),\n",
        "    keras.layers.Dense(Xtrain_1.shape[-1]/2, activation=\"relu\"),\n",
        "    keras.layers.Dense(Xtrain_1.shape[-1]/4, activation=\"relu\"),\n",
        "    keras.layers.Dense(Xtrain_1.shape[-1]/4, activation=\"relu\"),\n",
        "    keras.layers.Dense(Xtrain_1.shape[-1]/8, activation=\"relu\"),\n",
        "    keras.layers.Dense(y.shape[1], activation=\"softmax\"),\n",
        "    ]\n",
        ")\n",
        "\n",
        "model_1.summary()\n",
        "\n",
        "model_1.compile(optimizer= keras.optimizers.Adam(0.0015), loss='binary_crossentropy' ,metrics=[tf.keras.metrics.AUC(name='auc'),keras.metrics.Precision(name = 'precision'),keras.metrics.CategoricalAccuracy(name = 'accuracy')])\n",
        "history_1 = model_1.fit(Xtrain_1, Ytrain_1, batch_size=10, epochs=35)\n",
        "\n",
        "print(\"\\n\")\n",
        "scoreMLP_1 = model_1.evaluate(Xtrain_1, Ytrain_1)\n",
        "print(model_1.metrics_names)\n",
        "print(\"Loss: \", scoreMLP_1[0])\n",
        "print(\"AUC for neural network: \", scoreMLP_1[1])\n",
        "print(\"Precision for neural network: \", scoreMLP_1[2])\n",
        "print(\"Accuracy for neural network: \", scoreMLP_1[3])"
      ]
    },
    {
      "cell_type": "code",
      "execution_count": null,
      "metadata": {
        "colab": {
          "base_uri": "https://localhost:8080/",
          "height": 295
        },
        "id": "xE9FRsg6UoNL",
        "outputId": "a116dc42-bcb1-4773-dd24-9494fd065a81"
      },
      "outputs": [
        {
          "data": {
            "image/png": "[encoded data removed]",
            "text/plain": [
              "<Figure size 432x288 with 1 Axes>"
            ]
          },
          "metadata": {
            "needs_background": "light"
          },
          "output_type": "display_data"
        }
      ],
      "source": [
        "# Gráfico da perda versus as épocas\n",
        "plt.plot(history_1.history[\"loss\"])\n",
        "plt.title(\"model loss\")\n",
        "plt.ylabel(\"loss\")\n",
        "plt.xlabel(\"epoch\")\n",
        "plt.show()"
      ]
    },
    {
      "cell_type": "code",
      "execution_count": null,
      "metadata": {
        "colab": {
          "base_uri": "https://localhost:8080/",
          "height": 295
        },
        "id": "lCUmn-K3-XTY",
        "outputId": "48327337-945c-4f72-d800-7e2b80efdc98"
      },
      "outputs": [
        {
          "data": {
            "image/png": "[encoded data removed]",
            "text/plain": [
              "<Figure size 432x288 with 1 Axes>"
            ]
          },
          "metadata": {
            "needs_background": "light"
          },
          "output_type": "display_data"
        }
      ],
      "source": [
        "# Gráfico da precisão versus as épocas\n",
        "plt.plot(history_1.history[\"precision\"])\n",
        "plt.title(\"model precision\")\n",
        "plt.ylabel(\"precision\")\n",
        "plt.xlabel(\"epoch\")\n",
        "plt.show()"
      ]
    },
    {
      "cell_type": "code",
      "execution_count": null,
      "metadata": {
        "colab": {
          "base_uri": "https://localhost:8080/",
          "height": 175
        },
        "id": "2EIHiN4M19vK",
        "outputId": "f646798e-6af4-4a45-9a16-368b7823faa9"
      },
      "outputs": [
        {
          "data": {
            "text/html": [
              "\n",
              "  <div id=\"df-a0ca847a-c9c3-45f2-941c-c4b58b725549\">\n",
              "    <div class=\"colab-df-container\">\n",
              "      <div>\n",
              "<style scoped>\n",
              "    .dataframe tbody tr th:only-of-type {\n",
              "        vertical-align: middle;\n",
              "    }\n",
              "\n",
              "    .dataframe tbody tr th {\n",
              "        vertical-align: top;\n",
              "    }\n",
              "\n",
              "    .dataframe thead tr th {\n",
              "        text-align: left;\n",
              "    }\n",
              "</style>\n",
              "<table border=\"1\" class=\"dataframe\">\n",
              "  <thead>\n",
              "    <tr>\n",
              "      <th></th>\n",
              "      <th colspan=\"3\" halign=\"left\">title</th>\n",
              "    </tr>\n",
              "    <tr>\n",
              "      <th></th>\n",
              "      <th>Acurracy</th>\n",
              "      <th>AUC</th>\n",
              "      <th>Precision</th>\n",
              "    </tr>\n",
              "  </thead>\n",
              "  <tbody>\n",
              "    <tr>\n",
              "      <th>Logistic Regression</th>\n",
              "      <td>0.3851</td>\n",
              "      <td>0.7995</td>\n",
              "      <td>0.8296</td>\n",
              "    </tr>\n",
              "    <tr>\n",
              "      <th>SVM</th>\n",
              "      <td>0.3697</td>\n",
              "      <td>0.8178</td>\n",
              "      <td>0.5462</td>\n",
              "    </tr>\n",
              "    <tr>\n",
              "      <th>Neural Network</th>\n",
              "      <td>0.7121</td>\n",
              "      <td>0.9152</td>\n",
              "      <td>0.9501</td>\n",
              "    </tr>\n",
              "  </tbody>\n",
              "</table>\n",
              "</div>\n",
              "      <button class=\"colab-df-convert\" onclick=\"convertToInteractive('df-a0ca847a-c9c3-45f2-941c-c4b58b725549')\"\n",
              "              title=\"Convert this dataframe to an interactive table.\"\n",
              "              style=\"display:none;\">\n",
              "        \n",
              "  <svg xmlns=\"http://www.w3.org/2000/svg\" height=\"24px\"viewBox=\"0 0 24 24\"\n",
              "       width=\"24px\">\n",
              "    <path d=\"M0 0h24v24H0V0z\" fill=\"none\"/>\n",
              "    <path d=\"M18.56 5.44l.94 2.06.94-2.06 2.06-.94-2.06-.94-.94-2.06-.94 2.06-2.06.94zm-11 1L8.5 8.5l.94-2.06 2.06-.94-2.06-.94L8.5 2.5l-.94 2.06-2.06.94zm10 10l.94 2.06.94-2.06 2.06-.94-2.06-.94-.94-2.06-.94 2.06-2.06.94z\"/><path d=\"M17.41 7.96l-1.37-1.37c-.4-.4-.92-.59-1.43-.59-.52 0-1.04.2-1.43.59L10.3 9.45l-7.72 7.72c-.78.78-.78 2.05 0 2.83L4 21.41c.39.39.9.59 1.41.59.51 0 1.02-.2 1.41-.59l7.78-7.78 2.81-2.81c.8-.78.8-2.07 0-2.86zM5.41 20L4 18.59l7.72-7.72 1.47 1.35L5.41 20z\"/>\n",
              "  </svg>\n",
              "      </button>\n",
              "      \n",
              "  <style>\n",
              "    .colab-df-container {\n",
              "      display:flex;\n",
              "      flex-wrap:wrap;\n",
              "      gap: 12px;\n",
              "    }\n",
              "\n",
              "    .colab-df-convert {\n",
              "      background-color: #E8F0FE;\n",
              "      border: none;\n",
              "      border-radius: 50%;\n",
              "      cursor: pointer;\n",
              "      display: none;\n",
              "      fill: #1967D2;\n",
              "      height: 32px;\n",
              "      padding: 0 0 0 0;\n",
              "      width: 32px;\n",
              "    }\n",
              "\n",
              "    .colab-df-convert:hover {\n",
              "      background-color: #E2EBFA;\n",
              "      box-shadow: 0px 1px 2px rgba(60, 64, 67, 0.3), 0px 1px 3px 1px rgba(60, 64, 67, 0.15);\n",
              "      fill: #174EA6;\n",
              "    }\n",
              "\n",
              "    [theme=dark] .colab-df-convert {\n",
              "      background-color: #3B4455;\n",
              "      fill: #D2E3FC;\n",
              "    }\n",
              "\n",
              "    [theme=dark] .colab-df-convert:hover {\n",
              "      background-color: #434B5C;\n",
              "      box-shadow: 0px 1px 3px 1px rgba(0, 0, 0, 0.15);\n",
              "      filter: drop-shadow(0px 1px 2px rgba(0, 0, 0, 0.3));\n",
              "      fill: #FFFFFF;\n",
              "    }\n",
              "  </style>\n",
              "\n",
              "      <script>\n",
              "        const buttonEl =\n",
              "          document.querySelector('#df-a0ca847a-c9c3-45f2-941c-c4b58b725549 button.colab-df-convert');\n",
              "        buttonEl.style.display =\n",
              "          google.colab.kernel.accessAllowed ? 'block' : 'none';\n",
              "\n",
              "        async function convertToInteractive(key) {\n",
              "          const element = document.querySelector('#df-a0ca847a-c9c3-45f2-941c-c4b58b725549');\n",
              "          const dataTable =\n",
              "            await google.colab.kernel.invokeFunction('convertToInteractive',\n",
              "                                                     [key], {});\n",
              "          if (!dataTable) return;\n",
              "\n",
              "          const docLinkHtml = 'Like what you see? Visit the ' +\n",
              "            '<a target=\"_blank\" href=https://colab.research.google.com/notebooks/data_table.ipynb>data table notebook</a>'\n",
              "            + ' to learn more about interactive tables.';\n",
              "          element.innerHTML = '';\n",
              "          dataTable['output_type'] = 'display_data';\n",
              "          await google.colab.output.renderOutput(dataTable, element);\n",
              "          const docLink = document.createElement('div');\n",
              "          docLink.innerHTML = docLinkHtml;\n",
              "          element.appendChild(docLink);\n",
              "        }\n",
              "      </script>\n",
              "    </div>\n",
              "  </div>\n",
              "  "
            ],
            "text/plain": [
              "                       title                  \n",
              "                    Acurracy     AUC Precision\n",
              "Logistic Regression   0.3851  0.7995    0.8296\n",
              "SVM                   0.3697  0.8178    0.5462\n",
              "Neural Network        0.7121  0.9152    0.9501"
            ]
          },
          "execution_count": 43,
          "metadata": {},
          "output_type": "execute_result"
        }
      ],
      "source": [
        "model1 = [[acc_lr_1,prec_lr_1,roc_lr_1],[acc_svm_1,prec_svm_1,roc_svm_1],[round(scoreMLP_1[3],4),round(scoreMLP_1[1],4),round(scoreMLP_1[2],4)]]\n",
        "metrics_1 = pd.DataFrame(model1, columns = ['Acurracy','AUC','Precision'], index = ['Logistic Regression', 'SVM', 'Neural Network'])\n",
        "metrics_1.columns = pd.MultiIndex.from_product([['title'], metrics_1.columns])\n",
        "metrics_1"
      ]
    },
    {
      "cell_type": "markdown",
      "metadata": {
        "id": "H7yhf0i02Eyk"
      },
      "source": [
        "Como é possível observar, a métrica dependeu bastante do modelo utilizado.\n",
        "\n",
        "1. Regressão logística\n",
        "\n",
        "A regressão logística apresentou baixa acurácia, porém obteve altas métricas na curva AUC e na precisão.\n",
        "\n",
        "2. SVM\n",
        "\n",
        "Mostro um bom desenho acerca da curva AUC, porém as outras métricas não conseguiram obter um bom desempenho.\n",
        "\n",
        "3. Rede Neural\n",
        "\n",
        "Foi o com melhor desempenho, obteve um número razoável para a acurácia e ótimo quando comparado com os dois modelos anteriores, em relação ao AUC, obteve a maior métrica em relação aos outros e em relação à precisão obteve ótimos resultados, e como é possível verificar pelo gráfico *model precision* obteve um bom aprendizado em relação à precisão."
      ]
    },
    {
      "cell_type": "markdown",
      "metadata": {},
      "source": [
        "## Títulos"
      ]
    },
    {
      "cell_type": "code",
      "execution_count": null,
      "metadata": {
        "id": "L6uYMjJj8iId"
      },
      "outputs": [],
      "source": [
        "abstracts = df['summaries']"
      ]
    },
    {
      "cell_type": "code",
      "execution_count": null,
      "metadata": {
        "id": "nszUmma-BvWM"
      },
      "outputs": [],
      "source": [
        "# funcao para tratar cada palavra e remover stopwords\n",
        "def processamento(tokens):\n",
        "    \n",
        "    token_processado = []\n",
        "    for token in tokens:\n",
        "        token = token.lower()\n",
        "        token = lemmatizer.lemmatize(token)\n",
        "        \n",
        "        if token not in stop_words:\n",
        "            token = stemmer.stem(token)\n",
        "            token_processado.append(token)\n",
        "        \n",
        "    return token_processado\n",
        "\n",
        "documentos_2 = []\n",
        "for abstract in abstracts:\n",
        "    \n",
        "    # expressao regular para remover pontuacoes do texto\n",
        "    abstract = re.sub(r'[^\\w\\s]','', abstract)\n",
        "    tokens = processamento(word_tokenize(abstract))\n",
        "    \n",
        "    documentos_2.append(' '.join(tokens))\n",
        "\n",
        "X_train_counts_2 = vectorizer.fit_transform(documentos_2)\n",
        "X_train_tfidf_2 = tfidf_transformer.fit_transform(X_train_counts_2)\n",
        "\n",
        "X2 = X_train_tfidf_2"
      ]
    },
    {
      "cell_type": "code",
      "execution_count": null,
      "metadata": {
        "id": "kxuCA6KdxqRx"
      },
      "outputs": [],
      "source": [
        "pca = TruncatedSVD(n_components = 100, algorithm='arpack', random_state = 10, tol = 0.1)\n",
        "X_pca_2 = pca.fit_transform(X2)"
      ]
    },
    {
      "cell_type": "code",
      "execution_count": null,
      "metadata": {
        "id": "5ZaphiLfxtwf"
      },
      "outputs": [],
      "source": [
        "Xtrain_2, Xtest_2,Ytrain_2, Ytest_2 = train_test_split(X_pca_2, y, test_size=0.20, random_state=10)"
      ]
    },
    {
      "cell_type": "code",
      "execution_count": null,
      "metadata": {
        "id": "eBM5Ixf6xwXk"
      },
      "outputs": [],
      "source": [
        "#SVM\n",
        "svm_2 = SGDClassifier(loss='hinge', penalty='l2',learning_rate='adaptive', random_state=10, eta0=0.05, )\n",
        "clf_svm_2 = OneVsRestClassifier(svm_2)\n",
        "\n",
        "clf_svm_2.fit(Xtrain_2, Ytrain_2)\n",
        "y_pred_svm_2 = clf_svm_2.predict(Xtest_2)"
      ]
    },
    {
      "cell_type": "code",
      "execution_count": null,
      "metadata": {
        "id": "1ytesvIZUNzJ"
      },
      "outputs": [],
      "source": [
        "acc_svm_2 = round(accuracy_score(Ytest_2, y_pred_svm_2),4)\n",
        "prec_svm_2 = round(precision_score(Ytest_2, y_pred_svm_2,average = 'micro'),4)\n",
        "roc_svm_2 =  round(roc_auc_score(Ytest_2, y_pred_svm_2),4)"
      ]
    },
    {
      "cell_type": "code",
      "execution_count": null,
      "metadata": {
        "colab": {
          "base_uri": "https://localhost:8080/"
        },
        "id": "ij5OTtU5xwVa",
        "outputId": "4655c9d9-63a5-4027-b94c-25d0fbd51cd2"
      },
      "outputs": [
        {
          "name": "stdout",
          "output_type": "stream",
          "text": [
            "Accuracy for logistic regression: 0.4473\n",
            "Precision for logistic regression: 0.8554\n",
            "ROC AUC for logistic regression: 0.559\n"
          ]
        }
      ],
      "source": [
        "print(f'Accuracy for logistic regression: {acc_svm_2}')\n",
        "print(f'Precision for logistic regression: {prec_svm_2}')\n",
        "print(f'ROC AUC for logistic regression: {roc_svm_2}')"
      ]
    },
    {
      "cell_type": "code",
      "execution_count": null,
      "metadata": {
        "id": "d4uGAXyZxwPO"
      },
      "outputs": [],
      "source": [
        "# Logistic Regression\n",
        "lr_2 = LogisticRegression(solver='sag', multi_class='ovr')\n",
        "clf_lr_2 = OneVsRestClassifier(lr_2)\n",
        "\n",
        "clf_lr_2.fit(Xtrain_2, Ytrain_2)\n",
        "y_pred_lr_2 = clf_lr_2.predict(Xtest_2)\n",
        "y_pred_prob_lr_2 = clf_lr_2.predict_proba(Xtest_2)"
      ]
    },
    {
      "cell_type": "code",
      "execution_count": null,
      "metadata": {
        "id": "in3BrrLdTvb3"
      },
      "outputs": [],
      "source": [
        "acc_lr_2 = round(accuracy_score(Ytest_2, y_pred_lr_2),4)\n",
        "prec_lr_2 = round(precision_score(Ytest_2, y_pred_lr_2,average = 'micro'),4)\n",
        "roc_lr_2 =  round(roc_auc_score(Ytest_2, y_pred_prob_lr_2),4)"
      ]
    },
    {
      "cell_type": "code",
      "execution_count": null,
      "metadata": {
        "colab": {
          "base_uri": "https://localhost:8080/"
        },
        "id": "FO_fKt5GxwNH",
        "outputId": "9e3b925d-b9a9-46d7-92d5-f97cbc5106f6"
      },
      "outputs": [
        {
          "name": "stdout",
          "output_type": "stream",
          "text": [
            "Accuracy for logistic regression: 0.4373\n",
            "Precision for logistic regression: 0.8357 \n",
            "ROC AUC for logistic regression: 0.8928 \n"
          ]
        }
      ],
      "source": [
        "print(f'Accuracy for logistic regression: {acc_lr_2}')\n",
        "print(f'Precision for logistic regression: {prec_lr_2} ' )\n",
        "print(f'ROC AUC for logistic regression: {roc_lr_2} ', )"
      ]
    },
    {
      "cell_type": "code",
      "execution_count": null,
      "metadata": {
        "colab": {
          "base_uri": "https://localhost:8080/"
        },
        "id": "Rh0a07oNxwIr",
        "outputId": "d11351a3-da9f-4519-8939-48f2a9fd0322"
      },
      "outputs": [
        {
          "name": "stdout",
          "output_type": "stream",
          "text": [
            "Model: \"sequential_1\"\n",
            "_________________________________________________________________\n",
            " Layer (type)                Output Shape              Param #   \n",
            "=================================================================\n",
            " dense_6 (Dense)             (None, 100)               10100     \n",
            "                                                                 \n",
            " dropout_1 (Dropout)         (None, 100)               0         \n",
            "                                                                 \n",
            " flatten_1 (Flatten)         (None, 100)               0         \n",
            "                                                                 \n",
            " dense_7 (Dense)             (None, 50)                5050      \n",
            "                                                                 \n",
            " dense_8 (Dense)             (None, 25)                1275      \n",
            "                                                                 \n",
            " dense_9 (Dense)             (None, 25)                650       \n",
            "                                                                 \n",
            " dense_10 (Dense)            (None, 12)                312       \n",
            "                                                                 \n",
            " dense_11 (Dense)            (None, 17)                221       \n",
            "                                                                 \n",
            "=================================================================\n",
            "Total params: 17,608\n",
            "Trainable params: 17,608\n",
            "Non-trainable params: 0\n",
            "_________________________________________________________________\n",
            "Epoch 1/35\n",
            "3118/3118 [==============================] - 10s 3ms/step - loss: 0.1563 - auc: 0.8960 - accuracy: 0.7033 - precision: 0.9378\n",
            "Epoch 2/35\n",
            "3118/3118 [==============================] - 8s 3ms/step - loss: 0.1412 - auc: 0.9008 - accuracy: 0.7224 - precision: 0.9450\n",
            "Epoch 3/35\n",
            "3118/3118 [==============================] - 8s 3ms/step - loss: 0.1377 - auc: 0.9057 - accuracy: 0.7219 - precision: 0.9458\n",
            "Epoch 4/35\n",
            "3118/3118 [==============================] - 8s 3ms/step - loss: 0.1359 - auc: 0.9037 - accuracy: 0.7253 - precision: 0.9494\n",
            "Epoch 5/35\n",
            "3118/3118 [==============================] - 8s 3ms/step - loss: 0.1343 - auc: 0.9033 - accuracy: 0.7259 - precision: 0.9488\n",
            "Epoch 6/35\n",
            "3118/3118 [==============================] - 9s 3ms/step - loss: 0.1330 - auc: 0.8997 - accuracy: 0.7287 - precision: 0.9513\n",
            "Epoch 7/35\n",
            "3118/3118 [==============================] - 8s 3ms/step - loss: 0.1320 - auc: 0.8984 - accuracy: 0.7301 - precision: 0.9534\n",
            "Epoch 8/35\n",
            "3118/3118 [==============================] - 8s 3ms/step - loss: 0.1314 - auc: 0.8973 - accuracy: 0.7286 - precision: 0.9537\n",
            "Epoch 9/35\n",
            "3118/3118 [==============================] - 8s 3ms/step - loss: 0.1308 - auc: 0.8956 - accuracy: 0.7301 - precision: 0.9537\n",
            "Epoch 10/35\n",
            "3118/3118 [==============================] - 10s 3ms/step - loss: 0.1301 - auc: 0.8945 - accuracy: 0.7326 - precision: 0.9553\n",
            "Epoch 11/35\n",
            "3118/3118 [==============================] - 8s 3ms/step - loss: 0.1298 - auc: 0.8935 - accuracy: 0.7310 - precision: 0.9558\n",
            "Epoch 12/35\n",
            "3118/3118 [==============================] - 8s 3ms/step - loss: 0.1293 - auc: 0.8924 - accuracy: 0.7336 - precision: 0.9564\n",
            "Epoch 13/35\n",
            "3118/3118 [==============================] - 8s 3ms/step - loss: 0.1291 - auc: 0.8923 - accuracy: 0.7340 - precision: 0.9577\n",
            "Epoch 14/35\n",
            "3118/3118 [==============================] - 8s 3ms/step - loss: 0.1286 - auc: 0.8911 - accuracy: 0.7330 - precision: 0.9584\n",
            "Epoch 15/35\n",
            "3118/3118 [==============================] - 8s 3ms/step - loss: 0.1280 - auc: 0.8896 - accuracy: 0.7320 - precision: 0.9570\n",
            "Epoch 16/35\n",
            "3118/3118 [==============================] - 8s 3ms/step - loss: 0.1276 - auc: 0.8882 - accuracy: 0.7353 - precision: 0.9601\n",
            "Epoch 17/35\n",
            "3118/3118 [==============================] - 8s 3ms/step - loss: 0.1277 - auc: 0.8871 - accuracy: 0.7342 - precision: 0.9594\n",
            "Epoch 18/35\n",
            "3118/3118 [==============================] - 9s 3ms/step - loss: 0.1276 - auc: 0.8886 - accuracy: 0.7344 - precision: 0.9576\n",
            "Epoch 19/35\n",
            "3118/3118 [==============================] - 8s 3ms/step - loss: 0.1271 - auc: 0.8890 - accuracy: 0.7382 - precision: 0.9606\n",
            "Epoch 20/35\n",
            "3118/3118 [==============================] - 8s 3ms/step - loss: 0.1270 - auc: 0.8907 - accuracy: 0.7347 - precision: 0.9598\n",
            "Epoch 21/35\n",
            "3118/3118 [==============================] - 8s 3ms/step - loss: 0.1268 - auc: 0.8893 - accuracy: 0.7361 - precision: 0.9608\n",
            "Epoch 22/35\n",
            "3118/3118 [==============================] - 9s 3ms/step - loss: 0.1262 - auc: 0.8849 - accuracy: 0.7370 - precision: 0.9622\n",
            "Epoch 23/35\n",
            "3118/3118 [==============================] - 9s 3ms/step - loss: 0.1258 - auc: 0.8860 - accuracy: 0.7373 - precision: 0.9619\n",
            "Epoch 24/35\n",
            "3118/3118 [==============================] - 8s 3ms/step - loss: 0.1260 - auc: 0.8846 - accuracy: 0.7375 - precision: 0.9625\n",
            "Epoch 25/35\n",
            "3118/3118 [==============================] - 8s 3ms/step - loss: 0.1258 - auc: 0.8891 - accuracy: 0.7381 - precision: 0.9621\n",
            "Epoch 26/35\n",
            "3118/3118 [==============================] - 8s 3ms/step - loss: 0.1252 - auc: 0.8843 - accuracy: 0.7373 - precision: 0.9624\n",
            "Epoch 27/35\n",
            "3118/3118 [==============================] - 8s 3ms/step - loss: 0.1258 - auc: 0.8868 - accuracy: 0.7367 - precision: 0.9612\n",
            "Epoch 28/35\n",
            "3118/3118 [==============================] - 8s 3ms/step - loss: 0.1256 - auc: 0.8873 - accuracy: 0.7357 - precision: 0.9634\n",
            "Epoch 29/35\n",
            "3118/3118 [==============================] - 8s 3ms/step - loss: 0.1252 - auc: 0.8825 - accuracy: 0.7371 - precision: 0.9642\n",
            "Epoch 30/35\n",
            "3118/3118 [==============================] - 8s 3ms/step - loss: 0.1249 - auc: 0.8867 - accuracy: 0.7387 - precision: 0.9627\n",
            "Epoch 31/35\n",
            "3118/3118 [==============================] - 8s 3ms/step - loss: 0.1249 - auc: 0.8835 - accuracy: 0.7366 - precision: 0.9626\n",
            "Epoch 32/35\n",
            "3118/3118 [==============================] - 8s 3ms/step - loss: 0.1245 - auc: 0.8833 - accuracy: 0.7397 - precision: 0.9639\n",
            "Epoch 33/35\n",
            "3118/3118 [==============================] - 8s 3ms/step - loss: 0.1250 - auc: 0.8815 - accuracy: 0.7387 - precision: 0.9642\n",
            "Epoch 34/35\n",
            "3118/3118 [==============================] - 8s 3ms/step - loss: 0.1250 - auc: 0.8797 - accuracy: 0.7379 - precision: 0.9642\n",
            "Epoch 35/35\n",
            "3118/3118 [==============================] - 8s 3ms/step - loss: 0.1246 - auc: 0.8826 - accuracy: 0.7379 - precision: 0.9637\n",
            "\n",
            "\n",
            "975/975 [==============================] - 2s 2ms/step - loss: 0.1194 - auc: 0.8863 - accuracy: 0.7388 - precision: 0.9714\n",
            "['loss', 'auc', 'accuracy', 'precision']\n",
            "Loss:  0.11935043334960938\n",
            "AUC for neural network:  0.8862848281860352\n",
            "Precision for neural network:  0.9713711738586426\n",
            "Accuracy for neural network:  0.7388138771057129\n"
          ]
        }
      ],
      "source": [
        "#Neural Network\n",
        "# O código é composto pelas seguintes camadas:\n",
        "# 1. Input com o número de neuronios igual ao número de features (número de palavras)\n",
        "# 2. Camada de dropout com 0.2 de probabilidade\n",
        "# 3. Camada com achatamento\n",
        "# 4. Camada densa com metade do numero de neuronios da camada de input\n",
        "# 5. Camada densa com um quarto (1/4) do numero de neuronios da camada de input repetido duas vezes\n",
        "# 6. Camada densa com um oitavo (1/8) do numero de neuronios da camada de input\n",
        "# 7. Camada densa de output com um neuronio para cada classe com ativação softmax\n",
        "\n",
        "model_2 = keras.Sequential(\n",
        "    [keras.layers.Dense(Xtrain_1.shape[-1], activation=\"relu\", input_shape=(Xtrain_1.shape[-1],)),\n",
        "    keras.layers.Dropout(0.2),\n",
        "    keras.layers.Flatten(),\n",
        "    keras.layers.Dense(Xtrain_1.shape[-1]/2, activation=\"relu\"),\n",
        "    keras.layers.Dense(Xtrain_1.shape[-1]/4, activation=\"relu\"),\n",
        "    keras.layers.Dense(Xtrain_1.shape[-1]/4, activation=\"relu\"),\n",
        "    keras.layers.Dense(Xtrain_1.shape[-1]/8, activation=\"relu\"),\n",
        "    keras.layers.Dense(y.shape[1], activation=\"softmax\"),\n",
        "    ]\n",
        ")\n",
        "\n",
        "model_2.summary()\n",
        "\n",
        "model_2.compile(optimizer= keras.optimizers.Adam(0.005), loss=\"binary_crossentropy\" ,metrics=[tf.keras.metrics.AUC(name='auc'),keras.metrics.CategoricalAccuracy(name = 'accuracy'),keras.metrics.Precision(name = 'precision')])\n",
        "history_2 = model_2.fit(Xtrain_2, Ytrain_2, batch_size=10, epochs=35)\n",
        "\n",
        "print(\"\\n\")\n",
        "scoreMLP_2 = model_2.evaluate(Xtrain_2, Ytrain_2)\n",
        "print(model_2.metrics_names)\n",
        "print(\"Loss: \", scoreMLP_2[0])\n",
        "print(\"AUC for neural network: \", scoreMLP_2[1])\n",
        "print(\"Precision for neural network: \", scoreMLP_2[3])\n",
        "print(\"Accuracy for neural network: \", scoreMLP_2[2])"
      ]
    },
    {
      "cell_type": "code",
      "execution_count": null,
      "metadata": {
        "colab": {
          "base_uri": "https://localhost:8080/",
          "height": 295
        },
        "id": "zZnYNqfYxwGn",
        "outputId": "9f1e4800-4f39-44b5-f7b0-f7700ab7ff22"
      },
      "outputs": [
        {
          "data": {
            "image/png": "[encoded data removed]",
            "text/plain": [
              "<Figure size 432x288 with 1 Axes>"
            ]
          },
          "metadata": {
            "needs_background": "light"
          },
          "output_type": "display_data"
        }
      ],
      "source": [
        "plt.plot(history_2.history[\"loss\"])\n",
        "plt.title(\"model loss\")\n",
        "plt.ylabel(\"loss\")\n",
        "plt.xlabel(\"epoch\")\n",
        "plt.show()"
      ]
    },
    {
      "cell_type": "code",
      "execution_count": null,
      "metadata": {
        "colab": {
          "base_uri": "https://localhost:8080/",
          "height": 295
        },
        "id": "RchDwIXHxwET",
        "outputId": "b40c8c68-ae74-48b1-8488-a99ad127b5ba"
      },
      "outputs": [
        {
          "data": {
            "image/png": "[encoded data removed]",
            "text/plain": [
              "<Figure size 432x288 with 1 Axes>"
            ]
          },
          "metadata": {
            "needs_background": "light"
          },
          "output_type": "display_data"
        }
      ],
      "source": [
        "plt.plot(history_2.history[\"precision\"])\n",
        "plt.title(\"model loss\")\n",
        "plt.ylabel(\"loss\")\n",
        "plt.xlabel(\"epoch\")\n",
        "plt.show()"
      ]
    },
    {
      "cell_type": "code",
      "execution_count": null,
      "metadata": {
        "colab": {
          "base_uri": "https://localhost:8080/",
          "height": 175
        },
        "id": "5ktapjKLbDgO",
        "outputId": "c5159f9a-c523-4efc-e253-aff333569470"
      },
      "outputs": [
        {
          "data": {
            "text/html": [
              "\n",
              "  <div id=\"df-142cd10d-6ff0-4799-9b3e-c88b4d91a1c2\">\n",
              "    <div class=\"colab-df-container\">\n",
              "      <div>\n",
              "<style scoped>\n",
              "    .dataframe tbody tr th:only-of-type {\n",
              "        vertical-align: middle;\n",
              "    }\n",
              "\n",
              "    .dataframe tbody tr th {\n",
              "        vertical-align: top;\n",
              "    }\n",
              "\n",
              "    .dataframe thead tr th {\n",
              "        text-align: left;\n",
              "    }\n",
              "</style>\n",
              "<table border=\"1\" class=\"dataframe\">\n",
              "  <thead>\n",
              "    <tr>\n",
              "      <th></th>\n",
              "      <th colspan=\"3\" halign=\"left\">abstract</th>\n",
              "    </tr>\n",
              "    <tr>\n",
              "      <th></th>\n",
              "      <th>Acurracy</th>\n",
              "      <th>AUC</th>\n",
              "      <th>Precision</th>\n",
              "    </tr>\n",
              "  </thead>\n",
              "  <tbody>\n",
              "    <tr>\n",
              "      <th>Logistic Regression</th>\n",
              "      <td>0.4373</td>\n",
              "      <td>0.8357</td>\n",
              "      <td>0.8928</td>\n",
              "    </tr>\n",
              "    <tr>\n",
              "      <th>SVM</th>\n",
              "      <td>0.4473</td>\n",
              "      <td>0.8554</td>\n",
              "      <td>0.5590</td>\n",
              "    </tr>\n",
              "    <tr>\n",
              "      <th>Neural Network</th>\n",
              "      <td>0.7388</td>\n",
              "      <td>0.8863</td>\n",
              "      <td>0.9714</td>\n",
              "    </tr>\n",
              "  </tbody>\n",
              "</table>\n",
              "</div>\n",
              "      <button class=\"colab-df-convert\" onclick=\"convertToInteractive('df-142cd10d-6ff0-4799-9b3e-c88b4d91a1c2')\"\n",
              "              title=\"Convert this dataframe to an interactive table.\"\n",
              "              style=\"display:none;\">\n",
              "        \n",
              "  <svg xmlns=\"http://www.w3.org/2000/svg\" height=\"24px\"viewBox=\"0 0 24 24\"\n",
              "       width=\"24px\">\n",
              "    <path d=\"M0 0h24v24H0V0z\" fill=\"none\"/>\n",
              "    <path d=\"M18.56 5.44l.94 2.06.94-2.06 2.06-.94-2.06-.94-.94-2.06-.94 2.06-2.06.94zm-11 1L8.5 8.5l.94-2.06 2.06-.94-2.06-.94L8.5 2.5l-.94 2.06-2.06.94zm10 10l.94 2.06.94-2.06 2.06-.94-2.06-.94-.94-2.06-.94 2.06-2.06.94z\"/><path d=\"M17.41 7.96l-1.37-1.37c-.4-.4-.92-.59-1.43-.59-.52 0-1.04.2-1.43.59L10.3 9.45l-7.72 7.72c-.78.78-.78 2.05 0 2.83L4 21.41c.39.39.9.59 1.41.59.51 0 1.02-.2 1.41-.59l7.78-7.78 2.81-2.81c.8-.78.8-2.07 0-2.86zM5.41 20L4 18.59l7.72-7.72 1.47 1.35L5.41 20z\"/>\n",
              "  </svg>\n",
              "      </button>\n",
              "      \n",
              "  <style>\n",
              "    .colab-df-container {\n",
              "      display:flex;\n",
              "      flex-wrap:wrap;\n",
              "      gap: 12px;\n",
              "    }\n",
              "\n",
              "    .colab-df-convert {\n",
              "      background-color: #E8F0FE;\n",
              "      border: none;\n",
              "      border-radius: 50%;\n",
              "      cursor: pointer;\n",
              "      display: none;\n",
              "      fill: #1967D2;\n",
              "      height: 32px;\n",
              "      padding: 0 0 0 0;\n",
              "      width: 32px;\n",
              "    }\n",
              "\n",
              "    .colab-df-convert:hover {\n",
              "      background-color: #E2EBFA;\n",
              "      box-shadow: 0px 1px 2px rgba(60, 64, 67, 0.3), 0px 1px 3px 1px rgba(60, 64, 67, 0.15);\n",
              "      fill: #174EA6;\n",
              "    }\n",
              "\n",
              "    [theme=dark] .colab-df-convert {\n",
              "      background-color: #3B4455;\n",
              "      fill: #D2E3FC;\n",
              "    }\n",
              "\n",
              "    [theme=dark] .colab-df-convert:hover {\n",
              "      background-color: #434B5C;\n",
              "      box-shadow: 0px 1px 3px 1px rgba(0, 0, 0, 0.15);\n",
              "      filter: drop-shadow(0px 1px 2px rgba(0, 0, 0, 0.3));\n",
              "      fill: #FFFFFF;\n",
              "    }\n",
              "  </style>\n",
              "\n",
              "      <script>\n",
              "        const buttonEl =\n",
              "          document.querySelector('#df-142cd10d-6ff0-4799-9b3e-c88b4d91a1c2 button.colab-df-convert');\n",
              "        buttonEl.style.display =\n",
              "          google.colab.kernel.accessAllowed ? 'block' : 'none';\n",
              "\n",
              "        async function convertToInteractive(key) {\n",
              "          const element = document.querySelector('#df-142cd10d-6ff0-4799-9b3e-c88b4d91a1c2');\n",
              "          const dataTable =\n",
              "            await google.colab.kernel.invokeFunction('convertToInteractive',\n",
              "                                                     [key], {});\n",
              "          if (!dataTable) return;\n",
              "\n",
              "          const docLinkHtml = 'Like what you see? Visit the ' +\n",
              "            '<a target=\"_blank\" href=https://colab.research.google.com/notebooks/data_table.ipynb>data table notebook</a>'\n",
              "            + ' to learn more about interactive tables.';\n",
              "          element.innerHTML = '';\n",
              "          dataTable['output_type'] = 'display_data';\n",
              "          await google.colab.output.renderOutput(dataTable, element);\n",
              "          const docLink = document.createElement('div');\n",
              "          docLink.innerHTML = docLinkHtml;\n",
              "          element.appendChild(docLink);\n",
              "        }\n",
              "      </script>\n",
              "    </div>\n",
              "  </div>\n",
              "  "
            ],
            "text/plain": [
              "                    abstract                  \n",
              "                    Acurracy     AUC Precision\n",
              "Logistic Regression   0.4373  0.8357    0.8928\n",
              "SVM                   0.4473  0.8554    0.5590\n",
              "Neural Network        0.7388  0.8863    0.9714"
            ]
          },
          "execution_count": 44,
          "metadata": {},
          "output_type": "execute_result"
        }
      ],
      "source": [
        "model2 = [[acc_lr_2,prec_lr_2,roc_lr_2],[acc_svm_2,prec_svm_2,roc_svm_2],[round(scoreMLP_2[2],4),round(scoreMLP_2[1],4),round(scoreMLP_2[3],4)]]\n",
        "metrics_2 = pd.DataFrame(model2, columns = ['Acurracy','AUC','Precision'], index = ['Logistic Regression', 'SVM', 'Neural Network'])\n",
        "metrics_2.columns = pd.MultiIndex.from_product([['abstract'], metrics_2.columns])\n",
        "metrics_2"
      ]
    },
    {
      "cell_type": "code",
      "execution_count": null,
      "metadata": {
        "colab": {
          "base_uri": "https://localhost:8080/",
          "height": 175
        },
        "id": "VI1nmHmqbE20",
        "outputId": "4f5f2a59-249d-43ea-deda-b859c71a5660"
      },
      "outputs": [
        {
          "data": {
            "text/html": [
              "\n",
              "  <div id=\"df-c8edb092-c52f-4ce7-973a-428cf99492da\">\n",
              "    <div class=\"colab-df-container\">\n",
              "      <div>\n",
              "<style scoped>\n",
              "    .dataframe tbody tr th:only-of-type {\n",
              "        vertical-align: middle;\n",
              "    }\n",
              "\n",
              "    .dataframe tbody tr th {\n",
              "        vertical-align: top;\n",
              "    }\n",
              "\n",
              "    .dataframe thead tr th {\n",
              "        text-align: left;\n",
              "    }\n",
              "</style>\n",
              "<table border=\"1\" class=\"dataframe\">\n",
              "  <thead>\n",
              "    <tr>\n",
              "      <th></th>\n",
              "      <th colspan=\"3\" halign=\"left\">abstract</th>\n",
              "      <th colspan=\"3\" halign=\"left\">title</th>\n",
              "    </tr>\n",
              "    <tr>\n",
              "      <th></th>\n",
              "      <th>Acurracy</th>\n",
              "      <th>AUC</th>\n",
              "      <th>Precision</th>\n",
              "      <th>Acurracy</th>\n",
              "      <th>AUC</th>\n",
              "      <th>Precision</th>\n",
              "    </tr>\n",
              "  </thead>\n",
              "  <tbody>\n",
              "    <tr>\n",
              "      <th>Logistic Regression</th>\n",
              "      <td>0.4373</td>\n",
              "      <td>0.8357</td>\n",
              "      <td>0.8928</td>\n",
              "      <td>0.3851</td>\n",
              "      <td>0.7995</td>\n",
              "      <td>0.8296</td>\n",
              "    </tr>\n",
              "    <tr>\n",
              "      <th>SVM</th>\n",
              "      <td>0.4473</td>\n",
              "      <td>0.8554</td>\n",
              "      <td>0.5590</td>\n",
              "      <td>0.3697</td>\n",
              "      <td>0.8178</td>\n",
              "      <td>0.5462</td>\n",
              "    </tr>\n",
              "    <tr>\n",
              "      <th>Neural Network</th>\n",
              "      <td>0.7388</td>\n",
              "      <td>0.8863</td>\n",
              "      <td>0.9714</td>\n",
              "      <td>0.7121</td>\n",
              "      <td>0.9152</td>\n",
              "      <td>0.9501</td>\n",
              "    </tr>\n",
              "  </tbody>\n",
              "</table>\n",
              "</div>\n",
              "      <button class=\"colab-df-convert\" onclick=\"convertToInteractive('df-c8edb092-c52f-4ce7-973a-428cf99492da')\"\n",
              "              title=\"Convert this dataframe to an interactive table.\"\n",
              "              style=\"display:none;\">\n",
              "        \n",
              "  <svg xmlns=\"http://www.w3.org/2000/svg\" height=\"24px\"viewBox=\"0 0 24 24\"\n",
              "       width=\"24px\">\n",
              "    <path d=\"M0 0h24v24H0V0z\" fill=\"none\"/>\n",
              "    <path d=\"M18.56 5.44l.94 2.06.94-2.06 2.06-.94-2.06-.94-.94-2.06-.94 2.06-2.06.94zm-11 1L8.5 8.5l.94-2.06 2.06-.94-2.06-.94L8.5 2.5l-.94 2.06-2.06.94zm10 10l.94 2.06.94-2.06 2.06-.94-2.06-.94-.94-2.06-.94 2.06-2.06.94z\"/><path d=\"M17.41 7.96l-1.37-1.37c-.4-.4-.92-.59-1.43-.59-.52 0-1.04.2-1.43.59L10.3 9.45l-7.72 7.72c-.78.78-.78 2.05 0 2.83L4 21.41c.39.39.9.59 1.41.59.51 0 1.02-.2 1.41-.59l7.78-7.78 2.81-2.81c.8-.78.8-2.07 0-2.86zM5.41 20L4 18.59l7.72-7.72 1.47 1.35L5.41 20z\"/>\n",
              "  </svg>\n",
              "      </button>\n",
              "      \n",
              "  <style>\n",
              "    .colab-df-container {\n",
              "      display:flex;\n",
              "      flex-wrap:wrap;\n",
              "      gap: 12px;\n",
              "    }\n",
              "\n",
              "    .colab-df-convert {\n",
              "      background-color: #E8F0FE;\n",
              "      border: none;\n",
              "      border-radius: 50%;\n",
              "      cursor: pointer;\n",
              "      display: none;\n",
              "      fill: #1967D2;\n",
              "      height: 32px;\n",
              "      padding: 0 0 0 0;\n",
              "      width: 32px;\n",
              "    }\n",
              "\n",
              "    .colab-df-convert:hover {\n",
              "      background-color: #E2EBFA;\n",
              "      box-shadow: 0px 1px 2px rgba(60, 64, 67, 0.3), 0px 1px 3px 1px rgba(60, 64, 67, 0.15);\n",
              "      fill: #174EA6;\n",
              "    }\n",
              "\n",
              "    [theme=dark] .colab-df-convert {\n",
              "      background-color: #3B4455;\n",
              "      fill: #D2E3FC;\n",
              "    }\n",
              "\n",
              "    [theme=dark] .colab-df-convert:hover {\n",
              "      background-color: #434B5C;\n",
              "      box-shadow: 0px 1px 3px 1px rgba(0, 0, 0, 0.15);\n",
              "      filter: drop-shadow(0px 1px 2px rgba(0, 0, 0, 0.3));\n",
              "      fill: #FFFFFF;\n",
              "    }\n",
              "  </style>\n",
              "\n",
              "      <script>\n",
              "        const buttonEl =\n",
              "          document.querySelector('#df-c8edb092-c52f-4ce7-973a-428cf99492da button.colab-df-convert');\n",
              "        buttonEl.style.display =\n",
              "          google.colab.kernel.accessAllowed ? 'block' : 'none';\n",
              "\n",
              "        async function convertToInteractive(key) {\n",
              "          const element = document.querySelector('#df-c8edb092-c52f-4ce7-973a-428cf99492da');\n",
              "          const dataTable =\n",
              "            await google.colab.kernel.invokeFunction('convertToInteractive',\n",
              "                                                     [key], {});\n",
              "          if (!dataTable) return;\n",
              "\n",
              "          const docLinkHtml = 'Like what you see? Visit the ' +\n",
              "            '<a target=\"_blank\" href=https://colab.research.google.com/notebooks/data_table.ipynb>data table notebook</a>'\n",
              "            + ' to learn more about interactive tables.';\n",
              "          element.innerHTML = '';\n",
              "          dataTable['output_type'] = 'display_data';\n",
              "          await google.colab.output.renderOutput(dataTable, element);\n",
              "          const docLink = document.createElement('div');\n",
              "          docLink.innerHTML = docLinkHtml;\n",
              "          element.appendChild(docLink);\n",
              "        }\n",
              "      </script>\n",
              "    </div>\n",
              "  </div>\n",
              "  "
            ],
            "text/plain": [
              "                    abstract                      title                  \n",
              "                    Acurracy     AUC Precision Acurracy     AUC Precision\n",
              "Logistic Regression   0.4373  0.8357    0.8928   0.3851  0.7995    0.8296\n",
              "SVM                   0.4473  0.8554    0.5590   0.3697  0.8178    0.5462\n",
              "Neural Network        0.7388  0.8863    0.9714   0.7121  0.9152    0.9501"
            ]
          },
          "execution_count": 45,
          "metadata": {},
          "output_type": "execute_result"
        }
      ],
      "source": [
        "metrics = pd.concat([metrics_2,metrics_1], axis = 1)\n",
        "metrics"
      ]
    }
  ],
  "metadata": {
    "colab": {
      "collapsed_sections": [],
      "name": "ARXIV_project.ipynb",
      "provenance": []
    },
    "gpuClass": "standard",
    "kernelspec": {
      "display_name": "Python 3.9.7 ('base')",
      "language": "python",
      "name": "python3"
    },
    "language_info": {
      "codemirror_mode": {
        "name": "ipython",
        "version": 3
      },
      "file_extension": ".py",
      "mimetype": "text/x-python",
      "name": "python",
      "nbconvert_exporter": "python",
      "pygments_lexer": "ipython3",
      "version": "3.9.7"
    },
    "orig_nbformat": 4,
    "vscode": {
      "interpreter": {
        "hash": "f9e0dc8b388f8216ef4b4be0df8ebcfe28b361295e8f834a405c09de8a5179f3"
      }
    }
  },
  "nbformat": 4,
  "nbformat_minor": 0
}
